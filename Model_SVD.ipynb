{
 "cells": [
  {
   "cell_type": "code",
   "execution_count": 2,
   "metadata": {},
   "outputs": [],
   "source": [
    "import os\n",
    "import pandas as pd\n",
    "import surprise\n",
    "\n",
    "from surprise import SVD\n",
    "from surprise import Dataset\n",
    "from surprise.model_selection import cross_validate\n",
    "\n",
    "from surprise.accuracy import rmse\n",
    "from surprise import accuracy\n",
    "from surprise.model_selection import train_test_split\n",
    "\n",
    "from surprise import Reader\n",
    "\n",
    "from surprise import BaselineOnly\n",
    "\n",
    "from surprise import KNNBasic\n",
    "from surprise import KNNWithMeans\n",
    "from surprise import KNNWithZScore\n",
    "from surprise import KNNBaseline\n",
    "from surprise import SVD\n",
    "from surprise import SVDpp"
   ]
  },
  {
   "cell_type": "code",
   "execution_count": 3,
   "metadata": {},
   "outputs": [],
   "source": [
    "data = Dataset.load_builtin('ml-100k')"
   ]
  },
  {
   "cell_type": "markdown",
   "metadata": {},
   "source": [
    "## Accuracy - Collaborative Filtering"
   ]
  },
  {
   "cell_type": "markdown",
   "metadata": {},
   "source": [
    "## Collaborative Filtering"
   ]
  },
  {
   "cell_type": "markdown",
   "metadata": {},
   "source": [
    "We start our collaborative filtering technique where we predict for missing ratings using a matrix structure where each row \n",
    "represents rating and each column represents users. We notice that changing n_factors above 5 does \n",
    "not change the variance between RMSE and MAE, our evaluation metrics. Each individual factor represents a different combination\n",
    "of groupings taking x,y features into consideration. The characteristics of Factors are hidden. For example if we train a \n",
    "model with 5 factors, they can be 1. cast, 2. amount of action, 3. Diractor, 4. Drama, 5. Release date (we don't know these)"
   ]
  },
  {
   "cell_type": "code",
   "execution_count": 5,
   "metadata": {},
   "outputs": [
    {
     "name": "stdout",
     "output_type": "stream",
     "text": [
      "Evaluating RMSE, MAE of algorithm SVD on 3 split(s).\n",
      "\n",
      "                  Fold 1  Fold 2  Fold 3  Mean    Std     \n",
      "RMSE (testset)    0.9424  0.9435  0.9451  0.9437  0.0011  \n",
      "MAE (testset)     0.7443  0.7427  0.7495  0.7455  0.0029  \n",
      "Fit time          1.15    1.16    1.18    1.16    0.01    \n",
      "Test time         0.27    0.31    0.32    0.30    0.02    \n"
     ]
    },
    {
     "data": {
      "text/plain": [
       "{'test_rmse': array([0.94241427, 0.94352007, 0.94506951]),\n",
       " 'test_mae': array([0.74425557, 0.7427365 , 0.74952741]),\n",
       " 'fit_time': (1.1517341136932373, 1.1603939533233643, 1.1800611019134521),\n",
       " 'test_time': (0.2714121341705322, 0.30699586868286133, 0.3175930976867676)}"
      ]
     },
     "execution_count": 5,
     "metadata": {},
     "output_type": "execute_result"
    }
   ],
   "source": [
    "algo = SVD(n_factors= 8)\n",
    "\n",
    "cross_validate(algo, data, measures=['RMSE', 'MAE'], cv=3, verbose=True)"
   ]
  },
  {
   "cell_type": "code",
   "execution_count": 6,
   "metadata": {},
   "outputs": [
    {
     "data": {
      "text/plain": [
       "3.524052379738101"
      ]
     },
     "execution_count": 6,
     "metadata": {},
     "output_type": "execute_result"
    }
   ],
   "source": [
    "## default value: Average of all movies\n",
    "algo.default_prediction()"
   ]
  },
  {
   "cell_type": "code",
   "execution_count": 7,
   "metadata": {},
   "outputs": [
    {
     "name": "stdout",
     "output_type": "stream",
     "text": [
      "user: 197        item: 518        r_ui = None   est = 3.70   {'was_impossible': False}\n"
     ]
    }
   ],
   "source": [
    "uid = '197'\n",
    "\n",
    "iid = '518'\n",
    " \n",
    "pred = algo.predict(uid, iid, verbose=True)"
   ]
  },
  {
   "cell_type": "code",
   "execution_count": 8,
   "metadata": {},
   "outputs": [],
   "source": [
    "# for factor in range(10, 200, 20):\n",
    "#     algo = SVD(n_factors= factor)\n",
    "#     print('Factor is:', factor)\n",
    "#     cross_validate(algo, data, measures=['RMSE', 'MAE'], cv=3, verbose=True)"
   ]
  },
  {
   "cell_type": "code",
   "execution_count": 9,
   "metadata": {},
   "outputs": [
    {
     "name": "stdout",
     "output_type": "stream",
     "text": [
      "user: 197        item: 286        r_ui = None   est = 3.59   {'was_impossible': False}\n"
     ]
    }
   ],
   "source": [
    "uid = str(197)  # raw user id (as in the ratings file). They are **strings**!\n",
    "iid = str(286)  # raw item id (as in the ratings file). They are **strings**!\n",
    "\n",
    "# get a prediction for specific users and items.\n",
    "pred = algo.predict(uid, iid, verbose=True)"
   ]
  },
  {
   "cell_type": "code",
   "execution_count": 10,
   "metadata": {},
   "outputs": [],
   "source": [
    "# this is the all movies and ratings user = '197' rated\n",
    "\n",
    "uid_197 = [i for i in data.raw_ratings if '197' == i[0]]"
   ]
  },
  {
   "cell_type": "code",
   "execution_count": 11,
   "metadata": {},
   "outputs": [
    {
     "data": {
      "text/plain": [
       "[('197', '96', 5.0, '891409839'),\n",
       " ('197', '346', 3.0, '891409070'),\n",
       " ('197', '688', 1.0, '891409564'),\n",
       " ('197', '347', 4.0, '891409070'),\n",
       " ('197', '511', 5.0, '891409839'),\n",
       " ('197', '302', 3.0, '891409070'),\n",
       " ('197', '300', 4.0, '891409422'),\n",
       " ('197', '55', 3.0, '891409982'),\n",
       " ('197', '229', 3.0, '891410039'),\n",
       " ('197', '515', 5.0, '891409935'),\n",
       " ('197', '294', 4.0, '891409290'),\n",
       " ('197', '518', 1.0, '891409982'),\n",
       " ('197', '849', 3.0, '891410124'),\n",
       " ('197', '176', 5.0, '891409798'),\n",
       " ('197', '288', 3.0, '891409387'),\n",
       " ('197', '570', 4.0, '891410124'),\n",
       " ('197', '231', 3.0, '891410124'),\n",
       " ('197', '431', 3.0, '891409935'),\n",
       " ('197', '770', 3.0, '891410082'),\n",
       " ('197', '449', 5.0, '891410124'),\n",
       " ('197', '510', 5.0, '891409935'),\n",
       " ('197', '566', 4.0, '891409893'),\n",
       " ('197', '651', 5.0, '891409839'),\n",
       " ('197', '1419', 2.0, '891410124'),\n",
       " ('197', '181', 5.0, '891409893'),\n",
       " ('197', '68', 2.0, '891410082'),\n",
       " ('197', '328', 4.0, '891409290'),\n",
       " ('197', '385', 2.0, '891409893'),\n",
       " ('197', '748', 3.0, '891409323'),\n",
       " ('197', '720', 2.0, '891410039'),\n",
       " ('197', '187', 5.0, '891409798'),\n",
       " ('197', '340', 2.0, '891409199'),\n",
       " ('197', '195', 5.0, '891409798'),\n",
       " ('197', '344', 4.0, '891409070'),\n",
       " ('197', '808', 3.0, '891409893'),\n",
       " ('197', '779', 2.0, '891410170'),\n",
       " ('197', '271', 2.0, '891409352'),\n",
       " ('197', '92', 1.0, '891410082'),\n",
       " ('197', '33', 2.0, '891409981'),\n",
       " ('197', '321', 3.0, '891409475'),\n",
       " ('197', '690', 3.0, '891409255'),\n",
       " ('197', '89', 5.0, '891409798'),\n",
       " ('197', '62', 2.0, '891410039'),\n",
       " ('197', '750', 5.0, '891409199'),\n",
       " ('197', '127', 5.0, '891409839'),\n",
       " ('197', '578', 3.0, '891410039'),\n",
       " ('197', '286', 1.0, '891409255'),\n",
       " ('197', '258', 4.0, '891409255'),\n",
       " ('197', '190', 3.0, '891410082'),\n",
       " ('197', '289', 4.0, '891409422'),\n",
       " ('197', '233', 4.0, '891409935'),\n",
       " ('197', '161', 4.0, '891410039'),\n",
       " ('197', '79', 5.0, '891409839'),\n",
       " ('197', '1228', 4.0, '891410124'),\n",
       " ('197', '174', 5.0, '891409798'),\n",
       " ('197', '226', 4.0, '891410038'),\n",
       " ('197', '316', 4.0, '891409535'),\n",
       " ('197', '210', 5.0, '891409838'),\n",
       " ('197', '880', 3.0, '891409387'),\n",
       " ('197', '362', 4.0, '891409199'),\n",
       " ('197', '530', 3.0, '891410082'),\n",
       " ('197', '550', 3.0, '891409981'),\n",
       " ('197', '313', 4.0, '891409160'),\n",
       " ('197', '259', 1.0, '891409422'),\n",
       " ('197', '665', 4.0, '891410124'),\n",
       " ('197', '323', 3.0, '891409422'),\n",
       " ('197', '188', 3.0, '891409982'),\n",
       " ('197', '232', 4.0, '891410082'),\n",
       " ('197', '399', 2.0, '891410082'),\n",
       " ('197', '333', 2.0, '891409111'),\n",
       " ('197', '586', 3.0, '891410170'),\n",
       " ('197', '678', 2.0, '891409593'),\n",
       " ('197', '684', 4.0, '891409981'),\n",
       " ('197', '895', 3.0, '891409199'),\n",
       " ('197', '56', 1.0, '891409799'),\n",
       " ('197', '39', 2.0, '891409982'),\n",
       " ('197', '435', 5.0, '891409935'),\n",
       " ('197', '22', 5.0, '891409839'),\n",
       " ('197', '230', 4.0, '891409893'),\n",
       " ('197', '245', 4.0, '891409352'),\n",
       " ('197', '228', 4.0, '891409894'),\n",
       " ('197', '265', 5.0, '891409893'),\n",
       " ('197', '373', 1.0, '891410124'),\n",
       " ('197', '679', 1.0, '891409935'),\n",
       " ('197', '354', 2.0, '891409199'),\n",
       " ('197', '172', 5.0, '891409839'),\n",
       " ('197', '2', 3.0, '891409981'),\n",
       " ('197', '11', 1.0, '891409893'),\n",
       " ('197', '526', 5.0, '891409935'),\n",
       " ('197', '322', 3.0, '891409475'),\n",
       " ('197', '38', 3.0, '891410039'),\n",
       " ('197', '29', 3.0, '891410170'),\n",
       " ('197', '307', 3.0, '891409323'),\n",
       " ('197', '403', 3.0, '891410038'),\n",
       " ('197', '241', 3.0, '891409893'),\n",
       " ('197', '183', 5.0, '891409839'),\n",
       " ('197', '879', 4.0, '891409535'),\n",
       " ('197', '332', 2.0, '891409290'),\n",
       " ('197', '1222', 3.0, '891410082'),\n",
       " ('197', '554', 4.0, '891410170'),\n",
       " ('197', '82', 5.0, '891409893'),\n",
       " ('197', '177', 5.0, '891409935'),\n",
       " ('197', '4', 3.0, '891409981'),\n",
       " ('197', '182', 3.0, '891409935'),\n",
       " ('197', '1420', 1.0, '891409683'),\n",
       " ('197', '184', 1.0, '891409981'),\n",
       " ('197', '538', 3.0, '891409535'),\n",
       " ('197', '947', 2.0, '891410083'),\n",
       " ('197', '326', 3.0, '891409199'),\n",
       " ('197', '311', 4.0, '891409070'),\n",
       " ('197', '568', 4.0, '891410038'),\n",
       " ('197', '272', 4.0, '891409160'),\n",
       " ('197', '50', 5.0, '891409839'),\n",
       " ('197', '576', 4.0, '891410039'),\n",
       " ('197', '802', 4.0, '891410082'),\n",
       " ('197', '751', 3.0, '891409290'),\n",
       " ('197', '227', 3.0, '891409936'),\n",
       " ('197', '306', 2.0, '891409160')]"
      ]
     },
     "execution_count": 11,
     "metadata": {},
     "output_type": "execute_result"
    }
   ],
   "source": [
    "uid_197"
   ]
  },
  {
   "cell_type": "markdown",
   "metadata": {},
   "source": [
    "## Using Baselies"
   ]
  },
  {
   "cell_type": "code",
   "execution_count": 12,
   "metadata": {},
   "outputs": [
    {
     "name": "stdout",
     "output_type": "stream",
     "text": [
      "Using ALS\n"
     ]
    }
   ],
   "source": [
    "from surprise import BaselineOnly \n",
    "\n",
    "print('Using ALS')\n",
    "bsl_options = {'method': 'als',\n",
    "               'n_epochs': 5,\n",
    "               'reg_u': 12,\n",
    "               'reg_i': 5\n",
    "               }\n",
    "algo = BaselineOnly(bsl_options=bsl_options)"
   ]
  },
  {
   "cell_type": "code",
   "execution_count": null,
   "metadata": {},
   "outputs": [],
   "source": []
  },
  {
   "cell_type": "code",
   "execution_count": 13,
   "metadata": {},
   "outputs": [],
   "source": [
    "## create train test split.\n",
    "\n",
    "from surprise.model_selection import train_test_split\n",
    "\n",
    "trainset, testset = train_test_split(data, test_size=.25)"
   ]
  },
  {
   "cell_type": "code",
   "execution_count": 14,
   "metadata": {},
   "outputs": [
    {
     "name": "stdout",
     "output_type": "stream",
     "text": [
      "Estimating biases using als...\n",
      "Estimating biases using als...\n",
      "Estimating biases using als...\n"
     ]
    },
    {
     "data": {
      "text/plain": [
       "{'test_mse': array([0.89742197, 0.88585194, 0.89260766]),\n",
       " 'fit_time': (0.06937789916992188, 0.10190105438232422, 0.08325600624084473),\n",
       " 'test_time': (0.1834559440612793, 0.18500423431396484, 0.18261003494262695)}"
      ]
     },
     "execution_count": 14,
     "metadata": {},
     "output_type": "execute_result"
    }
   ],
   "source": [
    "cross_validate(algo, data, measures = ['MSE'], cv=3, verbose =False)"
   ]
  },
  {
   "cell_type": "code",
   "execution_count": 15,
   "metadata": {},
   "outputs": [
    {
     "name": "stdout",
     "output_type": "stream",
     "text": [
      "Estimating biases using als...\n",
      "RMSE: 0.9405\n"
     ]
    },
    {
     "data": {
      "text/plain": [
       "0.9405205014358575"
      ]
     },
     "execution_count": 15,
     "metadata": {},
     "output_type": "execute_result"
    }
   ],
   "source": [
    "predictions = algo.fit(trainset).test(testset)\n",
    "accuracy.rmse(predictions)"
   ]
  },
  {
   "cell_type": "markdown",
   "metadata": {},
   "source": [
    "### Gridsearch"
   ]
  },
  {
   "cell_type": "code",
   "execution_count": 16,
   "metadata": {},
   "outputs": [],
   "source": [
    "from surprise.model_selection import GridSearchCV"
   ]
  },
  {
   "cell_type": "code",
   "execution_count": 17,
   "metadata": {},
   "outputs": [],
   "source": [
    "param_grid = {'n_epochs': [5, 10], 'lr_all': [0.002, 0.005],\n",
    "              'reg_all': [0.4, 0.6]}\n",
    "gs = GridSearchCV(SVD, param_grid, measures=['rmse', 'mae'], cv=3)\n",
    "\n",
    "gs.fit(data)"
   ]
  },
  {
   "cell_type": "code",
   "execution_count": 21,
   "metadata": {},
   "outputs": [
    {
     "name": "stdout",
     "output_type": "stream",
     "text": [
      "0.7724812003957892\n",
      "{'n_epochs': 10, 'lr_all': 0.005, 'reg_all': 0.4}\n"
     ]
    },
    {
     "data": {
      "text/plain": [
       "<surprise.prediction_algorithms.matrix_factorization.SVD at 0x10b878250>"
      ]
     },
     "execution_count": 21,
     "metadata": {},
     "output_type": "execute_result"
    }
   ],
   "source": [
    "# best MAE score\n",
    "print(gs.best_score['mae'])\n",
    "\n",
    "# combination of parameters that gave the best MAE score\n",
    "print(gs.best_params['mae'])\n",
    "\n",
    "# We can now use the algorithm that yields the best MAE:\n",
    "algo = gs.best_estimator['mae']\n",
    "algo.fit(data.build_full_trainset())"
   ]
  },
  {
   "cell_type": "code",
   "execution_count": 22,
   "metadata": {},
   "outputs": [
    {
     "name": "stdout",
     "output_type": "stream",
     "text": [
      "Evaluating RMSE, MAE of algorithm SVD on 3 split(s).\n",
      "\n",
      "                  Fold 1  Fold 2  Fold 3  Mean    Std     \n",
      "RMSE (testset)    0.9668  0.9616  0.9624  0.9636  0.0023  \n",
      "MAE (testset)     0.7757  0.7696  0.7716  0.7723  0.0026  \n",
      "Fit time          1.80    1.71    1.69    1.73    0.05    \n",
      "Test time         0.28    0.26    0.26    0.27    0.01    \n"
     ]
    },
    {
     "data": {
      "text/plain": [
       "{'test_rmse': array([0.96682169, 0.96162098, 0.9623964 ]),\n",
       " 'test_mae': array([0.77570952, 0.76955273, 0.77159734]),\n",
       " 'fit_time': (1.7975258827209473, 1.7087781429290771, 1.693701982498169),\n",
       " 'test_time': (0.28448486328125, 0.26240992546081543, 0.263214111328125)}"
      ]
     },
     "execution_count": 22,
     "metadata": {},
     "output_type": "execute_result"
    }
   ],
   "source": [
    "cross_validate(algo, data, measures=['RMSE', 'MAE'], cv=3, verbose=True)"
   ]
  },
  {
   "cell_type": "code",
   "execution_count": null,
   "metadata": {},
   "outputs": [],
   "source": []
  }
 ],
 "metadata": {
  "kernelspec": {
   "display_name": "Python 3",
   "language": "python",
   "name": "python3"
  },
  "language_info": {
   "codemirror_mode": {
    "name": "ipython",
    "version": 3
   },
   "file_extension": ".py",
   "mimetype": "text/x-python",
   "name": "python",
   "nbconvert_exporter": "python",
   "pygments_lexer": "ipython3",
   "version": "3.7.6"
  },
  "toc": {
   "base_numbering": 1,
   "nav_menu": {},
   "number_sections": true,
   "sideBar": true,
   "skip_h1_title": false,
   "title_cell": "Table of Contents",
   "title_sidebar": "Contents",
   "toc_cell": false,
   "toc_position": {},
   "toc_section_display": true,
   "toc_window_display": false
  }
 },
 "nbformat": 4,
 "nbformat_minor": 4
}
